{
 "cells": [
  {
   "cell_type": "markdown",
   "metadata": {},
   "source": [
    "## Principles of Variational Inference\n",
    "\n",
    "In variational inference, one wants to approximate the true posterior distribution $p(\\omega | D)$ with a variational distribution $q_{\\theta}(\\omega)$. Variational parameters $\\theta$ are chosen so that the \"distance\" between p and q is minimized.\n",
    "\n",
    "One can use various notions of distance, for instance the KL divergence:\n",
    "$$\n",
    "KL (q || p) = E_{q}[\\log{q(\\omega)} - \\log{p(\\omega | D)}] \\\\\n",
    "= \\int q(\\omega) \\log{\\frac{q(\\omega)}{p(\\omega | D)}} d\\omega\n",
    "$$\n",
    "This is equivalent to minimizing the following cost function:\n",
    "$$\n",
    "L = KL (q_{\\theta}(\\omega) || p(\\omega)) - E_{q_{\\theta}(\\omega)} [\\log{p(D | \\omega)}] \\\\\n",
    "L_{Monte Carlo} = \\sum_{i} \\log{q_{\\theta}(\\omega^{(i)})} - \\log{p(\\omega^{(i)})} - \\log{p(D | \\omega^{(i)})}\n",
    "$$\n",
    "where $\\omega^{(i)}$ is sampled from the variational posterior $q_{\\theta}(\\omega^{(i)})$.\n",
    "or the alpha-divergence:\n",
    "$$D_{\\alpha}(p || q) = \\frac{1}{\\alpha (1-\\alpha)} \\left( 1-\\int p(\\omega)^{\\alpha} q(\\omega)^{1-\\alpha} d\\omega \\right)$$\n",
    "Here the maximization consists in \n",
    "\n"
   ]
  },
  {
   "cell_type": "code",
   "execution_count": 1,
   "metadata": {},
   "outputs": [
    {
     "name": "stderr",
     "output_type": "stream",
     "text": [
      "/anaconda3/lib/python3.6/site-packages/h5py/__init__.py:36: FutureWarning: Conversion of the second argument of issubdtype from `float` to `np.floating` is deprecated. In future, it will be treated as `np.float64 == np.dtype(float).type`.\n",
      "  from ._conv import register_converters as _register_converters\n"
     ]
    }
   ],
   "source": [
    "import numpy as np\n",
    "import matplotlib.pyplot as plt\n",
    "from UQ_in_ML.general_utils import *"
   ]
  },
  {
   "cell_type": "code",
   "execution_count": 2,
   "metadata": {},
   "outputs": [],
   "source": [
    "# Define the necessary distributions\n",
    "def gaussian(x, mu, std):\n",
    "    log2pi = np.log(2 * np.pi).astype(np.float32)\n",
    "    return np.exp(- 0.5 * log2pi - np.log(std) - 0.5 * np.square(np.divide(np.subtract(x, mu), std)))\n",
    "\n",
    "def gaussian_mixture(x, mu1, mu2, std1, std2, pi1):\n",
    "    sqrt2pi = np.sqrt(2 * np.pi).astype(np.float32)\n",
    "    term1 = np.multiply(pi1, np.multiply(1./(sqrt2pi * std1), \n",
    "                                         np.exp(-0.5 * np.square(np.divide(np.subtract(x, mu1), std1)))))\n",
    "    term2 = np.multiply(1. - pi1, np.multiply(1. / (sqrt2pi * std2), \n",
    "                                              np.exp(-0.5 * np.square(np.divide(np.subtract(x, mu2), std2)))))\n",
    "    return np.add(term1, term2)"
   ]
  },
  {
   "cell_type": "code",
   "execution_count": 3,
   "metadata": {},
   "outputs": [
    {
     "data": {
      "image/png": "[encoded data removed]",
      "text/plain": [
       "<Figure size 360x144 with 1 Axes>"
      ]
     },
     "metadata": {},
     "output_type": "display_data"
    }
   ],
   "source": [
    "def gaussian_mixture_fixed(x):\n",
    "    mu1=0; mu2=4.5; std1=1.2; std2=0.5; pi1=0.4\n",
    "    return gaussian_mixture(x, mu1, mu2, std1, std2, pi1)\n",
    "\n",
    "fig, ax = plt.subplots(ncols=1, figsize=(5, 2))\n",
    "x=np.linspace(-3, 8, 200)\n",
    "#ax.plot(x, gaussian(x, mu1, std1))\n",
    "ax.plot(x, gaussian_mixture_fixed(x))\n",
    "plt.show(fig)\n",
    "#print('mass of mode 1: {}'.format(pi1*std1))\n",
    "#print('mass of mode 2: {}'.format((1-pi1)*std2))"
   ]
  },
  {
   "cell_type": "code",
   "execution_count": 4,
   "metadata": {},
   "outputs": [],
   "source": [
    "# Define distances, p is bimodal with fixed parameters, q is Gaussian\n",
    "from scipy.integrate import quad\n",
    "def kl_divergence(params_q, p, q):\n",
    "    integrand = lambda x: q(x, params_q[0], params_q[1]) * np.log(q(x, params_q[0], params_q[1]) / p(x))\n",
    "    return quad(integrand, -20, 20)[0]\n",
    "\n",
    "def alpha_divergence(params_q, p, q, alpha):\n",
    "    integrand = lambda x: p(x) ** alpha * q(x, params_q[0], params_q[1]) ** (1-alpha)\n",
    "    return 1/(alpha*(1-alpha))*(1 - quad(integrand, -20, 20)[0])"
   ]
  },
  {
   "cell_type": "code",
   "execution_count": 5,
   "metadata": {},
   "outputs": [],
   "source": [
    "# set optimization procedure to find parameters mu_q, std_q that minimize the distances\n",
    "from scipy.optimize import minimize\n",
    "def minimize_distance(p, q, distance_type, alpha=None, x0=np.array([1, 1]), bounds=None):\n",
    "    if 'kl' in distance_type.lower():\n",
    "        res = minimize(kl_divergence, args = (p, q), x0=x0, bounds=bounds)\n",
    "    elif 'alpha' in distance_type.lower():\n",
    "        res = minimize(alpha_divergence, args = (p, q, alpha), x0=x0, bounds=bounds)\n",
    "    return res"
   ]
  },
  {
   "cell_type": "code",
   "execution_count": 6,
   "metadata": {},
   "outputs": [
    {
     "name": "stdout",
     "output_type": "stream",
     "text": [
      "1.2250845509363604\n"
     ]
    }
   ],
   "source": [
    "print(kl_divergence(params_q=(1, 1), p=gaussian_mixture_fixed, q=gaussian))"
   ]
  },
  {
   "cell_type": "code",
   "execution_count": 7,
   "metadata": {},
   "outputs": [
    {
     "name": "stdout",
     "output_type": "stream",
     "text": [
      "[1.19046916 2.0333713 ]\n"
     ]
    }
   ],
   "source": [
    "# run the optimization problem with KL divergence\n",
    "x0 = np.array([0, 1])\n",
    "bounds = [(-10, 10), (0.001, 10)]\n",
    "kwargs={'x0': x0, 'bounds': bounds}\n",
    "res = minimize_distance(p=gaussian_mixture_fixed, q=gaussian, distance_type='kl', \n",
    "                        x0=x0, bounds=bounds)\n",
    "print(res.x)"
   ]
  },
  {
   "cell_type": "code",
   "execution_count": 8,
   "metadata": {},
   "outputs": [
    {
     "name": "stdout",
     "output_type": "stream",
     "text": [
      "[1.19309251 2.03444452]\n",
      "[2.69939973 2.3634745 ]\n"
     ]
    }
   ],
   "source": [
    "# run the optimization problem with KL divergence\n",
    "for alpha in [0.001, 0.999]:\n",
    "    x0 = np.array([0, 1])\n",
    "    bounds = [(-10, 10), (0.001, 10)]\n",
    "    kwargs={'x0': x0, 'bounds': bounds}\n",
    "    res = minimize_distance(p=gaussian_mixture_fixed, q=gaussian, distance_type='alpha', alpha=alpha,\n",
    "                            x0=x0, bounds=bounds)\n",
    "    print(res.x)"
   ]
  },
  {
   "cell_type": "code",
   "execution_count": null,
   "metadata": {},
   "outputs": [],
   "source": []
  }
 ],
 "metadata": {
  "kernelspec": {
   "display_name": "Python 3",
   "language": "python",
   "name": "python3"
  },
  "language_info": {
   "codemirror_mode": {
    "name": "ipython",
    "version": 3
   },
   "file_extension": ".py",
   "mimetype": "text/x-python",
   "name": "python",
   "nbconvert_exporter": "python",
   "pygments_lexer": "ipython3",
   "version": "3.6.5"
  }
 },
 "nbformat": 4,
 "nbformat_minor": 2
}
