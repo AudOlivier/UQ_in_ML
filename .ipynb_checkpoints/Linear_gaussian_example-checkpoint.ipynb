{
 "cells": [
  {
   "cell_type": "markdown",
   "metadata": {},
   "source": [
    "## Linear Gaussian example\n",
    "\n",
    "The function is $y=\\theta_{0} + \\theta_{1} x + \\theta_{2} x^2 + \\epsilon = X \\theta + \\epsilon$, where $X$ contains the necessary powers of $x$. The NN is composed simply of 2 inputs and 1 output, no hidden layer.\n",
    "\n",
    "The prior is chosen to be Gaussian, $p(\\theta) = N(\\cdot, \\theta_{prior}, \\Sigma_{prior})  $, and so is the noise $\\epsilon \\sim N(\\cdot; 0, \\sigma_{n}^{2} I)$. Then the posterior of the parameters can be computed analytically as:\n",
    "\n",
    "\\begin{align*}\n",
    "& p(\\theta \\vert D={x,y}) =  N(\\cdot; \\theta_{post}(D), \\Sigma_{post}(D)) \\\\\n",
    "& \\theta_{post}(D) = \\left( \\frac{1}{\\sigma_{n}^{2}}X^{T}X + \\Sigma_{prior}^{-1} \\right)^{-1} \\left(\\frac{1}{\\sigma_{n}^{2}}X^{T}y+\\Sigma^{-1}\\theta_{prior} \\right) \\\\\n",
    "& \\Sigma_{post}(D) = \\left( \\frac{1}{\\sigma_{n}^{2}}X^{T}X + \\Sigma_{prior}^{-1} \\right)^{-1}\n",
    "\\end{align*}"
   ]
  },
  {
   "cell_type": "code",
   "execution_count": 1,
   "metadata": {},
   "outputs": [
    {
     "name": "stderr",
     "output_type": "stream",
     "text": [
      "/anaconda3/lib/python3.6/site-packages/h5py/__init__.py:36: FutureWarning: Conversion of the second argument of issubdtype from `float` to `np.floating` is deprecated. In future, it will be treated as `np.float64 == np.dtype(float).type`.\n",
      "  from ._conv import register_converters as _register_converters\n",
      "Using TensorFlow backend.\n"
     ]
    }
   ],
   "source": [
    "# import necessary packages\n",
    "import numpy as np\n",
    "import matplotlib.pyplot as plt\n",
    "from UQ_in_ML.examples_utils import *\n",
    "from scipy.stats import multivariate_normal"
   ]
  },
  {
   "cell_type": "code",
   "execution_count": 23,
   "metadata": {},
   "outputs": [],
   "source": [
    "# compute the true posterior pdf based on available data\n",
    "def compute_true_posterior_pdf(xn, yn, m_prior, S_prior, var_n):\n",
    "    X = np.concatenate([np.ones((xn.shape[0], 1)), xn], axis=1)\n",
    "    \n",
    "    # compute posterior pdf\n",
    "    S_posterior = np.linalg.inv(1/var_n*np.matmul(X.T,X)+np.linalg.inv(S_prior))\n",
    "    m_posterior = np.matmul(\n",
    "        S_posterior, \n",
    "        1/var_n*np.matmul(X.T, yn)+np.matmul(np.linalg.inv(S_prior), m_prior.reshape((-1,1)))\n",
    "        )\n",
    "    m_posterior = m_posterior.reshape((-1,))\n",
    "    return m_posterior, S_posterior\n",
    "\n",
    "def compute_gaussian_pdf(x, mean, std):\n",
    "    log2pi = np.log(2 * np.pi).astype(np.float32)\n",
    "    return np.exp(- 0.5 * log2pi - np.log(std) - 0.5 * np.square(np.divide(np.subtract(x, mean), std)))"
   ]
  },
  {
   "cell_type": "markdown",
   "metadata": {},
   "source": [
    "### Define the problem, generate the data and compute true posterior pdf"
   ]
  },
  {
   "cell_type": "code",
   "execution_count": 31,
   "metadata": {},
   "outputs": [
    {
     "data": {
      "image/png": "[encoded data removed]",
      "text/plain": [
       "<Figure size 1152x288 with 3 Axes>"
      ]
     },
     "metadata": {},
     "output_type": "display_data"
    }
   ],
   "source": [
    "# define the problem\n",
    "var_n = 1.\n",
    "f = lambda x, noisy: (-1.5+1.*x[:, 0]+1.7*x[:, 1]).reshape((-1,1))+\\\n",
    "    noisy*np.random.normal(loc=0, scale=np.sqrt(var_n), size=(x.shape[0], 1))\n",
    "    \n",
    "n_data = 50\n",
    "xn = np.random.uniform(low=0., high=10., size=(n_data, 1))\n",
    "xn = np.concatenate([xn, xn ** 2], axis=1)\n",
    "yn = f(xn, noisy = True)\n",
    "\n",
    "m_prior = np.array([0, 0, 0])\n",
    "S_prior = np.diag(np.array([1, 1, 1]))\n",
    "m_posterior, S_posterior = compute_true_posterior_pdf(xn, yn, m_prior, S_prior, var_n)\n",
    "fig, ax = plt.subplots(ncols=3, figsize=(16,4))\n",
    "domain = np.linspace(-2,3,100)\n",
    "for p in range(3):\n",
    "    ax[p].plot(domain, compute_gaussian_pdf(domain, m_prior[p], np.sqrt(np.diag(S_prior)[p])), \n",
    "               label='prior', color='orange')\n",
    "    ax[p].plot(domain, compute_gaussian_pdf(domain, m_posterior[p], np.sqrt(np.diag(S_posterior)[p])), \n",
    "               label='true posterior', color='red')\n",
    "    ax[p].set_title('pdf of parameter $p_{}$'.format(p))\n",
    "ax[2].legend()\n",
    "plt.show(fig)"
   ]
  },
  {
   "cell_type": "code",
   "execution_count": 37,
   "metadata": {},
   "outputs": [],
   "source": [
    "# define the network\n",
    "units_per_layer = () # no hidden layers\n",
    "prior = {'type': 'gaussian', 'variance': [1]} # only needed for output layer\n",
    "#pre_model = None\n",
    "pre_model = build_scaling_layers(X_train=xn)"
   ]
  },
  {
   "cell_type": "markdown",
   "metadata": {},
   "source": [
    "In the following we test several algorihtms and look at the posterior pdf (in particular uncertainty on parameter p2 should be smaller than uncertainty on parameter p0)."
   ]
  },
  {
   "cell_type": "code",
   "execution_count": 32,
   "metadata": {},
   "outputs": [],
   "source": [
    "from UQ_in_ML.general_utils import *\n",
    "from UQ_in_ML.epistemic_regressors import *"
   ]
  },
  {
   "cell_type": "markdown",
   "metadata": {},
   "source": [
    "### Test BayesByBackprop"
   ]
  },
  {
   "cell_type": "code",
   "execution_count": null,
   "metadata": {},
   "outputs": [],
   "source": [
    "reg = BayesByBackprop(units_per_layer=d['units_per_layer'], prior=d['prior'], pre_model=d['pre_model'], \n",
    "                      input_dim=1, output_dim=1, \n",
    "                      var_n=d['var_n'], activation='tanh')\n",
    "reg.fit(X=d['xn'], y=d['yn'], ns=10, verbose=False, epochs=4000, lr=0.002)"
   ]
  },
  {
   "cell_type": "markdown",
   "metadata": {},
   "source": [
    "### Test alpha-BB algorithm"
   ]
  },
  {
   "cell_type": "code",
   "execution_count": null,
   "metadata": {},
   "outputs": [],
   "source": [
    "### Test bootstrap with randomized prior functions"
   ]
  }
 ],
 "metadata": {
  "kernelspec": {
   "display_name": "Python 3",
   "language": "python",
   "name": "python3"
  },
  "language_info": {
   "codemirror_mode": {
    "name": "ipython",
    "version": 3
   },
   "file_extension": ".py",
   "mimetype": "text/x-python",
   "name": "python",
   "nbconvert_exporter": "python",
   "pygments_lexer": "ipython3",
   "version": "3.6.5"
  }
 },
 "nbformat": 4,
 "nbformat_minor": 2
}
