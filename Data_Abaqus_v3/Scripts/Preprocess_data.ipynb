{
 "cells": [
  {
   "cell_type": "markdown",
   "metadata": {},
   "source": [
    "# Preprocess data\n",
    "\n",
    "This script is used to process some of the data that was saved on MARCC (assumed to be saved in a folder /Users/audreyolivier/Data/AbaqusModel_v3/) and just save the input / outputs needed for network training."
   ]
  },
  {
   "cell_type": "code",
   "execution_count": 1,
   "metadata": {},
   "outputs": [],
   "source": [
    "import numpy as np\n",
    "import matplotlib.pyplot as plt\n",
    "import os\n",
    "import pickle\n",
    "%run utils_v3"
   ]
  },
  {
   "cell_type": "code",
   "execution_count": 2,
   "metadata": {},
   "outputs": [],
   "source": [
    "n_inputs = 4\n",
    "input_names = ['$vf$', '$E_f$ (GPa)', '$b_{m}$ (MPa)', '$c_{m}$']\n",
    "kwargs_inputs = {'n_inputs': n_inputs}\n",
    "\n",
    "#n_outputs = 6\n",
    "#output_names = ['$a_{eff}$ (MPa)', '$b_{eff}$ (MPa)', '$c_{eff}$', '$E_{eff}$ (GPa)', '$\\nu_eff$', \n",
    "#                '$p_{0.9 GPa}$ (%)']\n",
    "#kwargs_outputs = {'return_nu': True, 'threshold_perc_ac_yield': 0.01, 'return_pcov':False, \n",
    "#                 'threshold_mises': 0.9e3}\n",
    "n_outputs = 5\n",
    "output_names = ['$b_{eff}$ (MPa)', '$c_{eff}$', '$E_{eff}$ (GPa)', '$\\nu_eff$', '$p_{0.9 GPa}$ (%)']\n",
    "kwargs_outputs = {'return_nu': True, 'a_fixed': 400., 'return_pcov':False, 'threshold_mises': 0.9e3}\n",
    "\n",
    "check_fun = lambda p, x: (os.path.isfile(p+'JOB-{}_outputs_volume_averages.pkl'.format(x)) and \n",
    "                          os.path.isfile(p+'JOB-{}_outputs_centroid.pkl'.format(x)))\n",
    "\n",
    "do_save = False\n",
    "name_ext = '_bis_a[400]_test.pkl'"
   ]
  },
  {
   "cell_type": "markdown",
   "metadata": {},
   "source": [
    "### Data to look at aleatoric uncertainties"
   ]
  },
  {
   "cell_type": "code",
   "execution_count": 5,
   "metadata": {},
   "outputs": [],
   "source": [
    "n = 20\n",
    "\n",
    "extension_file = '_v3_inputs[4]_ndata[{}]_nsame[{}]_lhs'.format(n, n)\n",
    "path_IO = '/Users/audreyolivier/Data/AbaqusModel_v3/IOfolder'+extension_file+'/'\n",
    "\n",
    "groups_inpts, groups_outpts = [], []\n",
    "for j in range(n):\n",
    "    groups_inpts.append(np.array([extract_input_vars(job_nb, path_IO, extension_file, **kwargs_inputs)\n",
    "                         for job_nb in range(j * n, (j+1) * n) if check_fun(path_IO, job_nb)]))\n",
    "    groups_outpts.append(np.array([extract_output_vars2(job_nb, path_IO, **kwargs_outputs) \n",
    "                         for job_nb in range(j * n, (j+1) * n) if check_fun(path_IO, job_nb)]))\n",
    "if do_save:\n",
    "    with open('data_aleatoric_n[{}]'.format(n) + name_ext, 'wb') as f:\n",
    "        pickle.dump({'groups_inputs': groups_inpts, 'groups_outputs': groups_outpts}, f)"
   ]
  },
  {
   "cell_type": "code",
   "execution_count": 6,
   "metadata": {},
   "outputs": [
    {
     "name": "stdout",
     "output_type": "stream",
     "text": [
      "20\n",
      "[(15, 4), (15, 4), (15, 4), (15, 4), (15, 4), (14, 4), (14, 4), (15, 4), (15, 4), (12, 4), (15, 4), (15, 4), (15, 4), (15, 4), (15, 4), (15, 4), (14, 4), (15, 4), (15, 4), (14, 4)]\n",
      "20\n",
      "[(15, 5), (15, 5), (15, 5), (15, 5), (15, 5), (14, 5), (14, 5), (15, 5), (15, 5), (12, 5), (15, 5), (15, 5), (15, 5), (15, 5), (15, 5), (15, 5), (14, 5), (15, 5), (15, 5), (14, 5)]\n"
     ]
    }
   ],
   "source": [
    "n = 20\n",
    "with open('data_aleatoric_n[{}]'.format(n) + name_ext, 'rb') as f:\n",
    "    d = pickle.load(f)\n",
    "    print(len(d['groups_inputs']))\n",
    "    print([a.shape for a in d['groups_inputs']])\n",
    "    \n",
    "    print(len(d['groups_outputs']))\n",
    "    print([a.shape for a in d['groups_outputs']])"
   ]
  },
  {
   "cell_type": "markdown",
   "metadata": {},
   "source": [
    "### Training data: beta and random distributions"
   ]
  },
  {
   "cell_type": "code",
   "execution_count": 7,
   "metadata": {},
   "outputs": [],
   "source": [
    "extension_file = '_v3_inputs[4]_ndata[200]_nsame[1]_random'\n",
    "path_IO = '/Users/audreyolivier/Data/AbaqusModel_v3/IOfolder'+extension_file+'/'\n",
    "\n",
    "a = np.array([extract_input_vars(job_nb, path_IO, extension_file, **kwargs_inputs)\n",
    "            for job_nb in range(200) if check_fun(path_IO, job_nb)])\n",
    "b = np.array([extract_output_vars2(job_nb, path_IO, **kwargs_outputs)\n",
    "            for job_nb in range(200) if check_fun(path_IO, job_nb)])\n",
    "if do_save:\n",
    "    with open('training_random' + name_ext, 'wb') as f:\n",
    "        pickle.dump({'inpts': a[:100], 'outpts': b[:100]}, f)"
   ]
  },
  {
   "cell_type": "code",
   "execution_count": 8,
   "metadata": {},
   "outputs": [],
   "source": [
    "extension_file = '_v3_inputs[4]_ndata[120]_nsame[1]_beta'\n",
    "path_IO = '/Users/audreyolivier/Data/AbaqusModel_v3/IOfolder'+extension_file+'/'\n",
    "\n",
    "a = np.array([extract_input_vars(job_nb, path_IO, extension_file, **kwargs_inputs)\n",
    "            for job_nb in range(120) if check_fun(path_IO, job_nb)])\n",
    "b = np.array([extract_output_vars2(job_nb, path_IO, **kwargs_outputs)\n",
    "            for job_nb in range(120) if check_fun(path_IO, job_nb)])\n",
    "if do_save:\n",
    "    with open('training_beta' + name_ext, 'wb') as f:\n",
    "        pickle.dump({'inpts': a[:50], 'outpts': b[:50]}, f)"
   ]
  },
  {
   "cell_type": "code",
   "execution_count": 9,
   "metadata": {},
   "outputs": [],
   "source": [
    "extension_file = '_v3_inputs[4]_ndata[100]_nsame[1]_beta_2'\n",
    "path_IO = '/Users/audreyolivier/Data/AbaqusModel_v3/IOfolder'+extension_file+'/'\n",
    "\n",
    "a = np.array([extract_input_vars(job_nb, path_IO, extension_file, **kwargs_inputs)\n",
    "            for job_nb in range(120) if check_fun(path_IO, job_nb)])\n",
    "b = np.array([extract_output_vars2(job_nb, path_IO, **kwargs_outputs)\n",
    "            for job_nb in range(120) if check_fun(path_IO, job_nb)])\n",
    "if do_save:\n",
    "    with open('training_beta_2' + name_ext, 'wb') as f:\n",
    "        pickle.dump({'inpts': a[:50], 'outpts': b[:50]}, f)"
   ]
  },
  {
   "cell_type": "code",
   "execution_count": 10,
   "metadata": {},
   "outputs": [
    {
     "name": "stdout",
     "output_type": "stream",
     "text": [
      "(50, 4)\n"
     ]
    }
   ],
   "source": [
    "with open('training_beta_2' + name_ext, 'rb') as f:\n",
    "    d = pickle.load(f)\n",
    "    print(d['inpts'].shape)"
   ]
  },
  {
   "cell_type": "markdown",
   "metadata": {},
   "source": [
    "### Test data: randomly distributed"
   ]
  },
  {
   "cell_type": "code",
   "execution_count": 11,
   "metadata": {},
   "outputs": [],
   "source": [
    "extension_file = '_v3_inputs[4]_ndata[120]_nsame[1]_random'\n",
    "path_IO = '/Users/audreyolivier/Data/AbaqusModel_v3/IOfolder'+extension_file+'/'\n",
    "\n",
    "a = np.array([extract_input_vars(job_nb, path_IO, extension_file, **kwargs_inputs)\n",
    "            for job_nb in range(120) if check_fun(path_IO, job_nb)])\n",
    "b = np.array([extract_output_vars2(job_nb, path_IO, **kwargs_outputs)\n",
    "            for job_nb in range(120) if check_fun(path_IO, job_nb)])\n",
    "if do_save:\n",
    "    with open('testing_random' + name_ext, 'wb') as f:\n",
    "        pickle.dump({'inpts': a[:50], 'outpts': b[:50]}, f)"
   ]
  },
  {
   "cell_type": "code",
   "execution_count": 12,
   "metadata": {},
   "outputs": [
    {
     "name": "stdout",
     "output_type": "stream",
     "text": [
      "(50, 4)\n"
     ]
    }
   ],
   "source": [
    "with open('testing_random' + name_ext, 'rb') as f:\n",
    "    d = pickle.load(f)\n",
    "    print(d['inpts'].shape)"
   ]
  },
  {
   "cell_type": "code",
   "execution_count": null,
   "metadata": {},
   "outputs": [],
   "source": []
  }
 ],
 "metadata": {
  "kernelspec": {
   "display_name": "Python (UQ_in_ML)",
   "language": "python",
   "name": "uq_in_ml"
  },
  "language_info": {
   "codemirror_mode": {
    "name": "ipython",
    "version": 3
   },
   "file_extension": ".py",
   "mimetype": "text/x-python",
   "name": "python",
   "nbconvert_exporter": "python",
   "pygments_lexer": "ipython3",
   "version": "3.6.8"
  }
 },
 "nbformat": 4,
 "nbformat_minor": 2
}
